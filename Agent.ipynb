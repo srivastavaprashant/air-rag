{
 "cells": [
  {
   "cell_type": "code",
   "execution_count": null,
   "metadata": {},
   "outputs": [
    {
     "ename": "",
     "evalue": "",
     "output_type": "error",
     "traceback": [
      "\u001b[1;31mThe kernel failed to start due to the missing module '_sqlite3'. Consider installing this module.\n",
      "\u001b[1;31mClick <a href='https://aka.ms/kernelFailuresMissingModule'>here</a> for more info."
     ]
    }
   ],
   "source": [
    "from pathlib import Path\n",
    "import os\n",
    "from torch.cuda import is_available\n",
    "import json"
   ]
  },
  {
   "cell_type": "code",
   "execution_count": null,
   "metadata": {},
   "outputs": [
    {
     "ename": "",
     "evalue": "",
     "output_type": "error",
     "traceback": [
      "\u001b[1;31mThe kernel failed to start due to the missing module '_sqlite3'. Consider installing this module.\n",
      "\u001b[1;31mClick <a href='https://aka.ms/kernelFailuresMissingModule'>here</a> for more info."
     ]
    }
   ],
   "source": [
    "from biokb.llm import AIRLLM\n",
    "from biokb.agent import AIRAgent\n",
    "from biokb.embedding import AIREmbedding, AIRPubmedSearch\n",
    "from biokb.prompts import agent_prompt\n",
    "from biokb.utils import get_file_names, create_documents_from_text_files, get_logger\n",
    "from biokb.helpers import get_generation_config\n",
    "\n",
    "from biokb.settings import MODEL_NAME, EMBEDDING_MODEL_NAME, DB_DIR, DATA_DIR"
   ]
  },
  {
   "cell_type": "markdown",
   "metadata": {},
   "source": [
    "Settings"
   ]
  },
  {
   "cell_type": "code",
   "execution_count": 3,
   "metadata": {},
   "outputs": [
    {
     "name": "stderr",
     "output_type": "stream",
     "text": [
      "2024-10-13 12:05:01,506 - air-rag - INFO - Starting the AIR Agent\n"
     ]
    }
   ],
   "source": [
    "logger = get_logger(debug=True)\n",
    "logger.info(\"Starting the AIR Agent\")"
   ]
  },
  {
   "cell_type": "markdown",
   "metadata": {},
   "source": [
    "LLM Model"
   ]
  },
  {
   "cell_type": "code",
   "execution_count": 4,
   "metadata": {},
   "outputs": [
    {
     "name": "stderr",
     "output_type": "stream",
     "text": [
      "/users/gast00/prashant/air-rag/.venv/lib/python3.11/site-packages/transformers/generation/configuration_utils.py:567: UserWarning: `do_sample` is set to `False`. However, `temperature` is set to `0.0` -- this flag is only used in sample-based generation modes. You should set `do_sample=True` or unset `temperature`. This was detected when initializing the generation config instance, which means the corresponding file may hold incorrect parameterization and should be fixed.\n",
      "  warnings.warn(\n"
     ]
    }
   ],
   "source": [
    "generation_config = get_generation_config()"
   ]
  },
  {
   "cell_type": "code",
   "execution_count": 5,
   "metadata": {},
   "outputs": [
    {
     "name": "stderr",
     "output_type": "stream",
     "text": [
      "2024-10-13 12:05:01,659 - air-rag - INFO - Loading model: meta-llama/Meta-Llama-3.1-8B-Instruct\n",
      "2024-10-13 12:05:01,662 - air-rag - INFO - Loading model in 4-bit mode\n",
      "`low_cpu_mem_usage` was None, now set to True since model is quantized.\n"
     ]
    },
    {
     "data": {
      "application/vnd.jupyter.widget-view+json": {
       "model_id": "6d3cc21c63c740a0a49cc39e1a9ee8bf",
       "version_major": 2,
       "version_minor": 0
      },
      "text/plain": [
       "Loading checkpoint shards:   0%|          | 0/4 [00:00<?, ?it/s]"
      ]
     },
     "metadata": {},
     "output_type": "display_data"
    },
    {
     "name": "stderr",
     "output_type": "stream",
     "text": [
      "2024-10-13 12:05:07,585 - air-rag - INFO - Model loaded: meta-llama/Meta-Llama-3.1-8B-Instruct\n"
     ]
    }
   ],
   "source": [
    "llm = AIRLLM(\n",
    "    model_name=MODEL_NAME,\n",
    "    generation_config=generation_config,\n",
    "    logger=logger\n",
    ")"
   ]
  },
  {
   "cell_type": "code",
   "execution_count": 6,
   "metadata": {},
   "outputs": [],
   "source": [
    "def response(response: str):\n",
    "    \"\"\"\n",
    "    A tool to respond to the user's queries.\n",
    "    Args:\n",
    "        response: The response string to respond to.\n",
    "    \"\"\"\n",
    "    return response\n",
    "\n",
    "def search_tool(query: str):\n",
    "    \"\"\"\n",
    "    Use this tool to search for information in the database.\n",
    "    Args:\n",
    "        query: The query string to search for.\n",
    "    \"\"\"\n",
    "    return \"No information available\""
   ]
  },
  {
   "cell_type": "code",
   "execution_count": 7,
   "metadata": {},
   "outputs": [],
   "source": [
    "embedding_llm = AIREmbedding(\n",
    "    model_name=EMBEDDING_MODEL_NAME\n",
    ")"
   ]
  },
  {
   "cell_type": "code",
   "execution_count": 8,
   "metadata": {},
   "outputs": [],
   "source": [
    "if Path(DB_DIR).exists():\n",
    "    docstore = AIRPubmedSearch.load(\n",
    "        DB_DIR, \n",
    "        embedding_llm=embedding_llm,\n",
    "    )\n",
    "else:\n",
    "    files = get_file_names(DATA_DIR)\n",
    "    documents = create_documents_from_text_files(files)\n",
    "    print(f\"Number of documents: {len(documents)}\")\n",
    "    docstore = AIRPubmedSearch(\n",
    "        documents=documents,\n",
    "        embedding_llm=embedding_llm,\n",
    "    )\n",
    "    docstore.build(DB_DIR)"
   ]
  },
  {
   "cell_type": "code",
   "execution_count": 9,
   "metadata": {},
   "outputs": [],
   "source": [
    "agent = AIRAgent(\n",
    "    llm=llm,\n",
    "    docstore=docstore,\n",
    "    logger=logger,\n",
    "    tools = [response, search_tool]\n",
    ")"
   ]
  },
  {
   "cell_type": "code",
   "execution_count": 10,
   "metadata": {},
   "outputs": [
    {
     "name": "stderr",
     "output_type": "stream",
     "text": [
      "2024-10-13 12:05:10,243 - air-rag - DEBUG - Calling get_chat_response: [{'role': 'system', 'content': \"You are a chat agent. Use 'response' tool to generate responses. Use 'search' tool to search before you asnwer any scientific questions. The query should have some detail not just phrases or keywords. Do not give user any scientific answer without using search tool.\"}, {'role': 'user', 'content': 'Hi'}]\n",
      "/users/gast00/prashant/air-rag/.venv/lib/python3.11/site-packages/transformers/generation/configuration_utils.py:567: UserWarning: `do_sample` is set to `False`. However, `temperature` is set to `0.0` -- this flag is only used in sample-based generation modes. You should set `do_sample=True` or unset `temperature`.\n",
      "  warnings.warn(\n",
      "Setting `pad_token_id` to `eos_token_id`:128001 for open-end generation.\n",
      "2024-10-13 12:05:12,605 - air-rag - INFO - Response: {\"name\": \"response\", \"parameters\": {\"response\": \"Hello! How can I assist you today?\"}}\n"
     ]
    },
    {
     "data": {
      "text/plain": [
       "({'role': 'assistant', 'content': 'Hello! How can I assist you today?'}, None)"
      ]
     },
     "execution_count": 10,
     "metadata": {},
     "output_type": "execute_result"
    }
   ],
   "source": [
    "agent.invoke({\"role\":\"user\",\n",
    "                   \"content\":\"Hi\"})"
   ]
  },
  {
   "cell_type": "code",
   "execution_count": 11,
   "metadata": {},
   "outputs": [
    {
     "data": {
      "text/plain": [
       "[{'role': 'system',\n",
       "  'content': \"You are a chat agent. Use 'response' tool to generate responses. Use 'search' tool to search before you asnwer any scientific questions. The query should have some detail not just phrases or keywords. Do not give user any scientific answer without using search tool.\"},\n",
       " {'role': 'user', 'content': 'Hi'},\n",
       " {'role': 'assistant', 'content': 'Hello! How can I assist you today?'}]"
      ]
     },
     "execution_count": 11,
     "metadata": {},
     "output_type": "execute_result"
    }
   ],
   "source": [
    "agent.chat"
   ]
  },
  {
   "cell_type": "code",
   "execution_count": 12,
   "metadata": {},
   "outputs": [
    {
     "name": "stderr",
     "output_type": "stream",
     "text": [
      "2024-10-13 12:05:12,759 - air-rag - DEBUG - Calling get_chat_response: [{'role': 'system', 'content': \"You are a chat agent. Use 'response' tool to generate responses. Use 'search' tool to search before you asnwer any scientific questions. The query should have some detail not just phrases or keywords. Do not give user any scientific answer without using search tool.\"}, {'role': 'user', 'content': 'Hi'}, {'role': 'assistant', 'content': 'Hello! How can I assist you today?'}, {'role': 'user', 'content': 'what is mirna'}]\n",
      "Setting `pad_token_id` to `eos_token_id`:128001 for open-end generation.\n",
      "2024-10-13 12:05:20,657 - air-rag - INFO - Response: {\"name\": \"response\", \"parameters\": {\"response\": \"MicroRNA (miRNA) is a small non-coding RNA molecule that functions in RNA silencing and post-transcriptional regulation of gene expression. It plays a crucial role in various biological processes, including development, cell differentiation, and disease progression.\"}}\n"
     ]
    },
    {
     "data": {
      "text/plain": [
       "({'role': 'assistant',\n",
       "  'content': 'MicroRNA (miRNA) is a small non-coding RNA molecule that functions in RNA silencing and post-transcriptional regulation of gene expression. It plays a crucial role in various biological processes, including development, cell differentiation, and disease progression.'},\n",
       " None)"
      ]
     },
     "execution_count": 12,
     "metadata": {},
     "output_type": "execute_result"
    }
   ],
   "source": [
    "message = agent.invoke({\"role\":\"user\",\n",
    "                   \"content\":\"what is mirna\"})\n",
    "message"
   ]
  },
  {
   "cell_type": "code",
   "execution_count": 13,
   "metadata": {},
   "outputs": [
    {
     "data": {
      "text/plain": [
       "[{'role': 'system',\n",
       "  'content': \"You are a chat agent. Use 'response' tool to generate responses. Use 'search' tool to search before you asnwer any scientific questions. The query should have some detail not just phrases or keywords. Do not give user any scientific answer without using search tool.\"},\n",
       " {'role': 'user', 'content': 'Hi'},\n",
       " {'role': 'assistant', 'content': 'Hello! How can I assist you today?'},\n",
       " {'role': 'user', 'content': 'what is mirna'},\n",
       " {'role': 'assistant',\n",
       "  'content': 'MicroRNA (miRNA) is a small non-coding RNA molecule that functions in RNA silencing and post-transcriptional regulation of gene expression. It plays a crucial role in various biological processes, including development, cell differentiation, and disease progression.'}]"
      ]
     },
     "execution_count": 13,
     "metadata": {},
     "output_type": "execute_result"
    }
   ],
   "source": [
    "agent.chat"
   ]
  },
  {
   "cell_type": "code",
   "execution_count": 14,
   "metadata": {},
   "outputs": [
    {
     "data": {
      "text/plain": [
       "[{'role': 'user', 'content': 'Hi'},\n",
       " {'role': 'assistant', 'content': 'Hello! How can I assist you today?'},\n",
       " {'role': 'user', 'content': 'what is mirna'},\n",
       " {'role': 'assistant',\n",
       "  'content': 'MicroRNA (miRNA) is a small non-coding RNA molecule that functions in RNA silencing and post-transcriptional regulation of gene expression. It plays a crucial role in various biological processes, including development, cell differentiation, and disease progression.'}]"
      ]
     },
     "execution_count": 14,
     "metadata": {},
     "output_type": "execute_result"
    }
   ],
   "source": [
    "agent.trace"
   ]
  },
  {
   "cell_type": "code",
   "execution_count": 15,
   "metadata": {},
   "outputs": [
    {
     "name": "stderr",
     "output_type": "stream",
     "text": [
      "2024-10-13 12:05:20,864 - air-rag - DEBUG - Calling get_chat_response: [{'role': 'system', 'content': \"You are a chat agent. Use 'response' tool to generate responses. Use 'search' tool to search before you asnwer any scientific questions. The query should have some detail not just phrases or keywords. Do not give user any scientific answer without using search tool.\"}, {'role': 'user', 'content': 'Hi'}, {'role': 'assistant', 'content': 'Hello! How can I assist you today?'}, {'role': 'user', 'content': 'what is mirna'}, {'role': 'assistant', 'content': 'MicroRNA (miRNA) is a small non-coding RNA molecule that functions in RNA silencing and post-transcriptional regulation of gene expression. It plays a crucial role in various biological processes, including development, cell differentiation, and disease progression.'}, {'role': 'user', 'content': 'ok'}]\n",
      "Setting `pad_token_id` to `eos_token_id`:128001 for open-end generation.\n",
      "2024-10-13 12:05:23,950 - air-rag - INFO - Response: {\"name\": \"response\", \"parameters\": {\"response\": \"MicroRNA is a small non-coding RNA molecule that functions in RNA silencing and post-transcriptional regulation of gene expression.\"}}\n"
     ]
    }
   ],
   "source": [
    "message = agent.invoke({\"role\":\"user\",\n",
    "                   \"content\":\"ok\"})"
   ]
  },
  {
   "cell_type": "code",
   "execution_count": 16,
   "metadata": {},
   "outputs": [
    {
     "data": {
      "text/plain": [
       "({'role': 'assistant',\n",
       "  'content': 'MicroRNA is a small non-coding RNA molecule that functions in RNA silencing and post-transcriptional regulation of gene expression.'},\n",
       " None)"
      ]
     },
     "execution_count": 16,
     "metadata": {},
     "output_type": "execute_result"
    }
   ],
   "source": [
    "message"
   ]
  },
  {
   "cell_type": "code",
   "execution_count": 17,
   "metadata": {},
   "outputs": [
    {
     "data": {
      "text/plain": [
       "[{'role': 'system',\n",
       "  'content': \"You are a chat agent. Use 'response' tool to generate responses. Use 'search' tool to search before you asnwer any scientific questions. The query should have some detail not just phrases or keywords. Do not give user any scientific answer without using search tool.\"},\n",
       " {'role': 'user', 'content': 'Hi'},\n",
       " {'role': 'assistant', 'content': 'Hello! How can I assist you today?'},\n",
       " {'role': 'user', 'content': 'what is mirna'},\n",
       " {'role': 'assistant',\n",
       "  'content': 'MicroRNA (miRNA) is a small non-coding RNA molecule that functions in RNA silencing and post-transcriptional regulation of gene expression. It plays a crucial role in various biological processes, including development, cell differentiation, and disease progression.'},\n",
       " {'role': 'user', 'content': 'ok'},\n",
       " {'role': 'assistant',\n",
       "  'content': 'MicroRNA is a small non-coding RNA molecule that functions in RNA silencing and post-transcriptional regulation of gene expression.'}]"
      ]
     },
     "execution_count": 17,
     "metadata": {},
     "output_type": "execute_result"
    }
   ],
   "source": [
    "agent.chat"
   ]
  },
  {
   "cell_type": "code",
   "execution_count": 18,
   "metadata": {},
   "outputs": [
    {
     "data": {
      "text/plain": [
       "[{'role': 'user', 'content': 'Hi'},\n",
       " {'role': 'assistant', 'content': 'Hello! How can I assist you today?'},\n",
       " {'role': 'user', 'content': 'what is mirna'},\n",
       " {'role': 'assistant',\n",
       "  'content': 'MicroRNA (miRNA) is a small non-coding RNA molecule that functions in RNA silencing and post-transcriptional regulation of gene expression. It plays a crucial role in various biological processes, including development, cell differentiation, and disease progression.'},\n",
       " {'role': 'user', 'content': 'ok'},\n",
       " {'role': 'assistant',\n",
       "  'content': 'MicroRNA is a small non-coding RNA molecule that functions in RNA silencing and post-transcriptional regulation of gene expression.'}]"
      ]
     },
     "execution_count": 18,
     "metadata": {},
     "output_type": "execute_result"
    }
   ],
   "source": [
    "agent.trace"
   ]
  },
  {
   "cell_type": "code",
   "execution_count": 19,
   "metadata": {},
   "outputs": [
    {
     "name": "stderr",
     "output_type": "stream",
     "text": [
      "2024-10-13 12:05:24,217 - air-rag - DEBUG - Calling get_chat_response: [{'role': 'system', 'content': \"You are a chat agent. Use 'response' tool to generate responses. Use 'search' tool to search before you asnwer any scientific questions. The query should have some detail not just phrases or keywords. Do not give user any scientific answer without using search tool.\"}, {'role': 'user', 'content': 'Hi'}, {'role': 'assistant', 'content': 'Hello! How can I assist you today?'}, {'role': 'user', 'content': 'what is mirna'}, {'role': 'assistant', 'content': 'MicroRNA (miRNA) is a small non-coding RNA molecule that functions in RNA silencing and post-transcriptional regulation of gene expression. It plays a crucial role in various biological processes, including development, cell differentiation, and disease progression.'}, {'role': 'user', 'content': 'ok'}, {'role': 'assistant', 'content': 'MicroRNA is a small non-coding RNA molecule that functions in RNA silencing and post-transcriptional regulation of gene expression.'}, {'role': 'user', 'content': 'haha'}]\n",
      "Setting `pad_token_id` to `eos_token_id`:128001 for open-end generation.\n",
      "2024-10-13 12:05:25,861 - air-rag - INFO - Response: {\"name\": \"response\", \"parameters\": {\"response\": \"It looks like we didn\"}}\n"
     ]
    },
    {
     "data": {
      "text/plain": [
       "({'role': 'assistant', 'content': 'It looks like we didn'}, None)"
      ]
     },
     "execution_count": 19,
     "metadata": {},
     "output_type": "execute_result"
    }
   ],
   "source": [
    "message = agent.invoke({\"role\":\"user\",\n",
    "                   \"content\":\"haha\"})\n",
    "message"
   ]
  },
  {
   "cell_type": "code",
   "execution_count": null,
   "metadata": {},
   "outputs": [],
   "source": []
  }
 ],
 "metadata": {
  "kernelspec": {
   "display_name": ".venv",
   "language": "python",
   "name": "python3"
  },
  "language_info": {
   "codemirror_mode": {
    "name": "ipython",
    "version": 3
   },
   "file_extension": ".py",
   "mimetype": "text/x-python",
   "name": "python",
   "nbconvert_exporter": "python",
   "pygments_lexer": "ipython3",
   "version": "3.11.9"
  }
 },
 "nbformat": 4,
 "nbformat_minor": 2
}
