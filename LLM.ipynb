{
 "cells": [
  {
   "cell_type": "code",
   "execution_count": 1,
   "metadata": {},
   "outputs": [
    {
     "data": {
      "text/plain": [
       "True"
      ]
     },
     "execution_count": 1,
     "metadata": {},
     "output_type": "execute_result"
    }
   ],
   "source": [
    "from dotenv import load_dotenv\n",
    "load_dotenv()"
   ]
  },
  {
   "cell_type": "code",
   "execution_count": 2,
   "metadata": {},
   "outputs": [
    {
     "name": "stderr",
     "output_type": "stream",
     "text": [
      "2024-10-13 10:20:02,297 - air-llm - INFO - Starting AIR llm...\n",
      "/users/gast00/prashant/air-rag/.venv/lib/python3.11/site-packages/transformers/generation/configuration_utils.py:567: UserWarning: `do_sample` is set to `False`. However, `temperature` is set to `0.1` -- this flag is only used in sample-based generation modes. You should set `do_sample=True` or unset `temperature`. This was detected when initializing the generation config instance, which means the corresponding file may hold incorrect parameterization and should be fixed.\n",
      "  warnings.warn(\n"
     ]
    }
   ],
   "source": [
    "from biokb.llm import AIRLLM\n",
    "from biokb.utils import get_logger\n",
    "from biokb.helpers import get_generation_config\n",
    "from biokb.tools import search_tool, response\n",
    "from biokb.settings import MODEL_NAME, DEVICE_NAME, MAX_TIME"
   ]
  },
  {
   "cell_type": "code",
   "execution_count": 39,
   "metadata": {},
   "outputs": [],
   "source": [
    "MODEL_NAME = \"meta-llama/Meta-Llama-3.1-8B-Instruct\"\n",
    "# MODEL_NAME = \"mistralai/Mixtral-8x7B-v0.1\""
   ]
  },
  {
   "cell_type": "code",
   "execution_count": 40,
   "metadata": {},
   "outputs": [
    {
     "name": "stderr",
     "output_type": "stream",
     "text": [
      "2024-10-13 10:45:06,767 - air-rag - INFO - Starting the AIR Agent\n"
     ]
    }
   ],
   "source": [
    "logger = get_logger(debug=True)\n",
    "logger.info(\"Starting the AIR Agent\")"
   ]
  },
  {
   "cell_type": "code",
   "execution_count": 41,
   "metadata": {},
   "outputs": [
    {
     "name": "stderr",
     "output_type": "stream",
     "text": [
      "/users/gast00/prashant/air-rag/.venv/lib/python3.11/site-packages/transformers/generation/configuration_utils.py:567: UserWarning: `do_sample` is set to `False`. However, `temperature` is set to `0.0` -- this flag is only used in sample-based generation modes. You should set `do_sample=True` or unset `temperature`. This was detected when initializing the generation config instance, which means the corresponding file may hold incorrect parameterization and should be fixed.\n",
      "  warnings.warn(\n",
      "2024-10-13 10:45:08,534 - air-rag - INFO - Loading model: meta-llama/Meta-Llama-3.1-8B-Instruct\n",
      "2024-10-13 10:45:08,536 - air-rag - INFO - Loading model in 4-bit mode\n",
      "`low_cpu_mem_usage` was None, now set to True since model is quantized.\n"
     ]
    },
    {
     "data": {
      "application/vnd.jupyter.widget-view+json": {
       "model_id": "700ccf87eeeb48449255422c8e83b4c3",
       "version_major": 2,
       "version_minor": 0
      },
      "text/plain": [
       "Loading checkpoint shards:   0%|          | 0/4 [00:00<?, ?it/s]"
      ]
     },
     "metadata": {},
     "output_type": "display_data"
    },
    {
     "name": "stderr",
     "output_type": "stream",
     "text": [
      "2024-10-13 10:45:14,352 - air-rag - INFO - Model loaded: meta-llama/Meta-Llama-3.1-8B-Instruct\n"
     ]
    }
   ],
   "source": [
    "generation_config = get_generation_config()\n",
    "llm = AIRLLM(\n",
    "    model_name=MODEL_NAME,\n",
    "    generation_config=generation_config,\n",
    "    logger=logger\n",
    ")"
   ]
  },
  {
   "cell_type": "markdown",
   "metadata": {},
   "source": [
    "## Tokenizer"
   ]
  },
  {
   "cell_type": "markdown",
   "metadata": {},
   "source": [
    "### Eg 1"
   ]
  },
  {
   "cell_type": "code",
   "execution_count": 242,
   "metadata": {},
   "outputs": [],
   "source": [
    "messages = [\n",
    "    #{\"role\": \"system\", \"content\": \"you are a helpful chat assistant with access to a large database of scientific papers.  Only use search tool when you cannot answer based on this input. Try your best to answer user queries based on the input.\"},\n",
    "    # # {\"role\": \"assistant\", \"tool_call\": {\"name\": \"get_weather\", \"parameters\": {\"location\": \"California\"}}},\n",
    "    # {\"role\": \"assistant\", \"content\": \"23 degrees celsius\"},\n",
    "    {\"role\": \"system\", \"content\": \"You are a chat agent. Use 'response' tool to generate responses. Use 'search' tool to search before you asnwer any scientific questions. Do not give user any scientific answer without using search tool.\"},\n",
    "    {\"role\": \"user\", \"content\": \"hi\"},\n",
    "    {\"role\": \"assistant\", \"content\": \"Hello! How can I help you today?\"},\n",
    "    {\"role\": \"user\", \"content\": \"What is p53\"},\n",
    "    {\"role\": \"assistant\", \"content\": {\"tool_call\": {\"name\": \"search\", \"parameters\": {\"query\": \"p53\"}}}},\n",
    "    {\"role\": \"assistant\", \"content\": \"p53 is a protein that in humans is encoded by the TP53 gene. p53 is crucial in multicellular organisms, where it regulates the cell cycle and, thus, functions as a tumor suppressor that is involved in preventing cancer.\"},\n",
    "    {\"role\": \"user\", \"content\": \"Ok\"},\n",
    "    {\"role\": \"assistant\", \"content\": \"That's a good start! Would you like to know more about the p53 protein and its role in cancer prevention?\"},\n",
    "    {\"role\": \"user\", \"content\": \"Yes\"},\n",
    "    {\"role\": \"assistant\", \"content\": {\"tool_call\": {\"name\": \"search\", \"parameters\": {\"query\": \"p53 and cancer\"}}}},\n",
    "    {\"role\": \"assistant\", \"content\": \"The p53 pathway plays a crucial role in regulating the biological behavior and determining the fate of tumor cells in non-small cell lung cancers (NSCLCs). Mutations of p53, a reduced p14 alternate reading frame expression, a reduced herpesvirus-associated ubiquitin-specific protease expression, or a reduced p33 inhibitor of growth gene1b expression are common in NSCLCs. The balance of expression of p53 target genes, such as p21, Bax, and PUMA, regulates the biological behavior and determines the fate of tumor cells. Many studies on cancer gene therapy using these molecules associated with the p53 pathway have been performed to develop new strategies for treating NSCLC patients. Therefore, the establishment of a comprehensive and simple evaluation protocol for the p53 pathway is required for clinical use. Additionally, the p53 tumor suppressor gene has been shown to regulate expression of some metastasis-related genes, including epidermal growth factor receptor, matrix metalloproteinase (MMP)-2, cathepsin D, and thrombospondin-1, but represses expression of the genes encoding basic fibroblast growth factor and multidrug resistance-1. Decreased expression of E-cadherin is associated with p53 alterations. The p53 pathway also regulates the expression of the metastasis suppressor gene Nm23-H1, which encodes an 18-kDa nucleoside diphosphate kinase. Wild-type p53 upregulates the expression of Nm23-H1 at protein and mRNA levels in MCF-7 and J7B cells, while mutant p53 downregulates the expression of Nm23-H1 in RKO and H1299 cells\"},\n",
    "    {\"role\": \"user\", \"content\": \"Ok\"},\n",
    "    {\"role\": \"assistant\", \"content\": \"Would you like to know more about the p53 pathway and its role in cancer prevention?\"},\n",
    "    {\"role\": \"user\", \"content\": \"NO\"},\n",
    "]"
   ]
  },
  {
   "cell_type": "code",
   "execution_count": 244,
   "metadata": {},
   "outputs": [],
   "source": [
    "# Tokenize the input messages\n",
    "output = llm.tokenizer.apply_chat_template(\n",
    "    conversation = messages,\n",
    "    return_tensors=\"pt\", \n",
    "    tools = [response, search_tool],\n",
    "    tokenize=True, \n",
    "    add_generation_prompt=False,\n",
    "    return_dict=True,\n",
    "\n",
    ")\n",
    "input_ids = output[\"input_ids\"].to(DEVICE_NAME)\n",
    "attn_mask = output[\"attention_mask\"].to(DEVICE_NAME)\n"
   ]
  },
  {
   "cell_type": "code",
   "execution_count": 245,
   "metadata": {},
   "outputs": [
    {
     "name": "stdout",
     "output_type": "stream",
     "text": [
      "<|begin_of_text|><|start_header_id|>system<|end_header_id|>\n",
      "\n",
      "Environment: ipython\n",
      "Cutting Knowledge Date: December 2023\n",
      "Today Date: 26 Jul 2024\n",
      "\n",
      "You are a chat agent. Use'response' tool to generate responses. Use'search' tool to search before you asnwer any scientific questions. Do not give user any scientific answer without using search tool.<|eot_id|><|start_header_id|>user<|end_header_id|>\n",
      "\n",
      "Given the following functions, please respond with a JSON for a function call with its proper arguments that best answers the given prompt.\n",
      "\n",
      "Respond in the format {\"name\": function name, \"parameters\": dictionary of argument name and its value}.Do not use variables.\n",
      "\n",
      "{\n",
      "    \"type\": \"function\",\n",
      "    \"function\": {\n",
      "        \"name\": \"response\",\n",
      "        \"description\": \"A tool to respond to the user message.\",\n",
      "        \"parameters\": {\n",
      "            \"type\": \"object\",\n",
      "            \"properties\": {\n",
      "                \"response\": {\n",
      "                    \"type\": \"string\",\n",
      "                    \"description\": \"The response string to respond to.\"\n",
      "                }\n",
      "            },\n",
      "            \"required\": [\n",
      "                \"response\"\n",
      "            ]\n",
      "        }\n",
      "    }\n",
      "}\n",
      "\n",
      "{\n",
      "    \"type\": \"function\",\n",
      "    \"function\": {\n",
      "        \"name\": \"search_tool\",\n",
      "        \"description\": \"Use this tool to search for information in the database.\",\n",
      "        \"parameters\": {\n",
      "            \"type\": \"object\",\n",
      "            \"properties\": {\n",
      "                \"query\": {\n",
      "                    \"type\": \"string\",\n",
      "                    \"description\": \"The query string to search for.\"\n",
      "                }\n",
      "            },\n",
      "            \"required\": [\n",
      "                \"query\"\n",
      "            ]\n",
      "        }\n",
      "    }\n",
      "}\n",
      "\n",
      "hi<|eot_id|><|start_header_id|>assistant<|end_header_id|>\n",
      "\n",
      "Hello! How can I help you today?<|eot_id|><|start_header_id|>user<|end_header_id|>\n",
      "\n",
      "What is p53<|eot_id|><|start_header_id|>assistant<|end_header_id|>\n",
      "\n",
      "{'tool_call': {'name':'search', 'parameters': {'query': 'p53'}}}<|eot_id|><|start_header_id|>assistant<|end_header_id|>\n",
      "\n",
      "p53 is a protein that in humans is encoded by the TP53 gene. p53 is crucial in multicellular organisms, where it regulates the cell cycle and, thus, functions as a tumor suppressor that is involved in preventing cancer.<|eot_id|><|start_header_id|>user<|end_header_id|>\n",
      "\n",
      "Ok<|eot_id|><|start_header_id|>assistant<|end_header_id|>\n",
      "\n",
      "That's a good start! Would you like to know more about the p53 protein and its role in cancer prevention?<|eot_id|><|start_header_id|>user<|end_header_id|>\n",
      "\n",
      "Yes<|eot_id|><|start_header_id|>assistant<|end_header_id|>\n",
      "\n",
      "{'tool_call': {'name':'search', 'parameters': {'query': 'p53 and cancer'}}}<|eot_id|><|start_header_id|>assistant<|end_header_id|>\n",
      "\n",
      "The p53 pathway plays a crucial role in regulating the biological behavior and determining the fate of tumor cells in non-small cell lung cancers (NSCLCs). Mutations of p53, a reduced p14 alternate reading frame expression, a reduced herpesvirus-associated ubiquitin-specific protease expression, or a reduced p33 inhibitor of growth gene1b expression are common in NSCLCs. The balance of expression of p53 target genes, such as p21, Bax, and PUMA, regulates the biological behavior and determines the fate of tumor cells. Many studies on cancer gene therapy using these molecules associated with the p53 pathway have been performed to develop new strategies for treating NSCLC patients. Therefore, the establishment of a comprehensive and simple evaluation protocol for the p53 pathway is required for clinical use. Additionally, the p53 tumor suppressor gene has been shown to regulate expression of some metastasis-related genes, including epidermal growth factor receptor, matrix metalloproteinase (MMP)-2, cathepsin D, and thrombospondin-1, but represses expression of the genes encoding basic fibroblast growth factor and multidrug resistance-1. Decreased expression of E-cadherin is associated with p53 alterations. The p53 pathway also regulates the expression of the metastasis suppressor gene Nm23-H1, which encodes an 18-kDa nucleoside diphosphate kinase. Wild-type p53 upregulates the expression of Nm23-H1 at protein and mRNA levels in MCF-7 and J7B cells, while mutant p53 downregulates the expression of Nm23-H1 in RKO and H1299 cells<|eot_id|><|start_header_id|>user<|end_header_id|>\n",
      "\n",
      "Ok<|eot_id|><|start_header_id|>assistant<|end_header_id|>\n",
      "\n",
      "Would you like to know more about the p53 pathway and its role in cancer prevention?<|eot_id|><|start_header_id|>user<|end_header_id|>\n",
      "\n",
      "NO<|eot_id|>\n"
     ]
    }
   ],
   "source": [
    "# Input message for the model\n",
    "print(llm.tokenizer.decode(input_ids[0]))"
   ]
  },
  {
   "cell_type": "code",
   "execution_count": 246,
   "metadata": {},
   "outputs": [
    {
     "name": "stderr",
     "output_type": "stream",
     "text": [
      "/users/gast00/prashant/air-rag/.venv/lib/python3.11/site-packages/transformers/generation/configuration_utils.py:567: UserWarning: `do_sample` is set to `False`. However, `temperature` is set to `0.0` -- this flag is only used in sample-based generation modes. You should set `do_sample=True` or unset `temperature`. This was detected when initializing the generation config instance, which means the corresponding file may hold incorrect parameterization and should be fixed.\n",
      "  warnings.warn(\n",
      "/users/gast00/prashant/air-rag/.venv/lib/python3.11/site-packages/transformers/generation/configuration_utils.py:567: UserWarning: `do_sample` is set to `False`. However, `temperature` is set to `0.0` -- this flag is only used in sample-based generation modes. You should set `do_sample=True` or unset `temperature`.\n",
      "  warnings.warn(\n",
      "Setting `pad_token_id` to `eos_token_id`:128001 for open-end generation.\n"
     ]
    }
   ],
   "source": [
    "output = llm.model.generate(\n",
    "    input_ids = input_ids,\n",
    "    attention_mask = attn_mask,\n",
    "    max_length=15000, \n",
    "    max_time=MAX_TIME,\n",
    "    generation_config=get_generation_config(),\n",
    "    repetition_penalty=1.5,\n",
    "    do_sample=False,    \n",
    ")\n",
    "output = llm.tokenizer.decode(output[0], skip_special_tokens=False)"
   ]
  },
  {
   "cell_type": "code",
   "execution_count": 247,
   "metadata": {},
   "outputs": [
    {
     "name": "stdout",
     "output_type": "stream",
     "text": [
      "<|begin_of_text|><|start_header_id|>system<|end_header_id|>\n",
      "\n",
      "Environment: ipython\n",
      "Cutting Knowledge Date: December 2023\n",
      "Today Date: 26 Jul 2024\n",
      "\n",
      "You are a chat agent. Use'response' tool to generate responses. Use'search' tool to search before you asnwer any scientific questions. Do not give user any scientific answer without using search tool.<|eot_id|><|start_header_id|>user<|end_header_id|>\n",
      "\n",
      "Given the following functions, please respond with a JSON for a function call with its proper arguments that best answers the given prompt.\n",
      "\n",
      "Respond in the format {\"name\": function name, \"parameters\": dictionary of argument name and its value}.Do not use variables.\n",
      "\n",
      "{\n",
      "    \"type\": \"function\",\n",
      "    \"function\": {\n",
      "        \"name\": \"response\",\n",
      "        \"description\": \"A tool to respond to the user message.\",\n",
      "        \"parameters\": {\n",
      "            \"type\": \"object\",\n",
      "            \"properties\": {\n",
      "                \"response\": {\n",
      "                    \"type\": \"string\",\n",
      "                    \"description\": \"The response string to respond to.\"\n",
      "                }\n",
      "            },\n",
      "            \"required\": [\n",
      "                \"response\"\n",
      "            ]\n",
      "        }\n",
      "    }\n",
      "}\n",
      "\n",
      "{\n",
      "    \"type\": \"function\",\n",
      "    \"function\": {\n",
      "        \"name\": \"search_tool\",\n",
      "        \"description\": \"Use this tool to search for information in the database.\",\n",
      "        \"parameters\": {\n",
      "            \"type\": \"object\",\n",
      "            \"properties\": {\n",
      "                \"query\": {\n",
      "                    \"type\": \"string\",\n",
      "                    \"description\": \"The query string to search for.\"\n",
      "                }\n",
      "            },\n",
      "            \"required\": [\n",
      "                \"query\"\n",
      "            ]\n",
      "        }\n",
      "    }\n",
      "}\n",
      "\n",
      "hi<|eot_id|><|start_header_id|>assistant<|end_header_id|>\n",
      "\n",
      "Hello! How can I help you today?<|eot_id|><|start_header_id|>user<|end_header_id|>\n",
      "\n",
      "What is p53<|eot_id|><|start_header_id|>assistant<|end_header_id|>\n",
      "\n",
      "{'tool_call': {'name':'search', 'parameters': {'query': 'p53'}}}<|eot_id|><|start_header_id|>assistant<|end_header_id|>\n",
      "\n",
      "p53 is a protein that in humans is encoded by the TP53 gene. p53 is crucial in multicellular organisms, where it regulates the cell cycle and, thus, functions as a tumor suppressor that is involved in preventing cancer.<|eot_id|><|start_header_id|>user<|end_header_id|>\n",
      "\n",
      "Ok<|eot_id|><|start_header_id|>assistant<|end_header_id|>\n",
      "\n",
      "That's a good start! Would you like to know more about the p53 protein and its role in cancer prevention?<|eot_id|><|start_header_id|>user<|end_header_id|>\n",
      "\n",
      "Yes<|eot_id|><|start_header_id|>assistant<|end_header_id|>\n",
      "\n",
      "{'tool_call': {'name':'search', 'parameters': {'query': 'p53 and cancer'}}}<|eot_id|><|start_header_id|>assistant<|end_header_id|>\n",
      "\n",
      "The p53 pathway plays a crucial role in regulating the biological behavior and determining the fate of tumor cells in non-small cell lung cancers (NSCLCs). Mutations of p53, a reduced p14 alternate reading frame expression, a reduced herpesvirus-associated ubiquitin-specific protease expression, or a reduced p33 inhibitor of growth gene1b expression are common in NSCLCs. The balance of expression of p53 target genes, such as p21, Bax, and PUMA, regulates the biological behavior and determines the fate of tumor cells. Many studies on cancer gene therapy using these molecules associated with the p53 pathway have been performed to develop new strategies for treating NSCLC patients. Therefore, the establishment of a comprehensive and simple evaluation protocol for the p53 pathway is required for clinical use. Additionally, the p53 tumor suppressor gene has been shown to regulate expression of some metastasis-related genes, including epidermal growth factor receptor, matrix metalloproteinase (MMP)-2, cathepsin D, and thrombospondin-1, but represses expression of the genes encoding basic fibroblast growth factor and multidrug resistance-1. Decreased expression of E-cadherin is associated with p53 alterations. The p53 pathway also regulates the expression of the metastasis suppressor gene Nm23-H1, which encodes an 18-kDa nucleoside diphosphate kinase. Wild-type p53 upregulates the expression of Nm23-H1 at protein and mRNA levels in MCF-7 and J7B cells, while mutant p53 downregulates the expression of Nm23-H1 in RKO and H1299 cells<|eot_id|><|start_header_id|>user<|end_header_id|>\n",
      "\n",
      "Ok<|eot_id|><|start_header_id|>assistant<|end_header_id|>\n",
      "\n",
      "Would you like to know more about the p53 pathway and its role in cancer prevention?<|eot_id|><|start_header_id|>user<|end_header_id|>\n",
      "\n",
      "NO<|eot_id|><|start_header_id|>assistant<|end_header_id|>\n",
      "\n",
      "{\"name\": \"response\", \"parameters\": {\"response\": \"Is there anything else I can help you with?\"}}<|end_of_text|>\n"
     ]
    },
    {
     "ename": "",
     "evalue": "",
     "output_type": "error",
     "traceback": [
      "\u001b[1;31mThe Kernel crashed while executing code in the current cell or a previous cell. \n",
      "\u001b[1;31mPlease review the code in the cell(s) to identify a possible cause of the failure. \n",
      "\u001b[1;31mClick <a href='https://aka.ms/vscodeJupyterKernelCrash'>here</a> for more info. \n",
      "\u001b[1;31mView Jupyter <a href='command:jupyter.viewOutput'>log</a> for further details."
     ]
    }
   ],
   "source": [
    "print(output)"
   ]
  },
  {
   "cell_type": "code",
   "execution_count": null,
   "metadata": {},
   "outputs": [],
   "source": []
  },
  {
   "cell_type": "markdown",
   "metadata": {},
   "source": [
    "### Eg 2"
   ]
  },
  {
   "cell_type": "code",
   "execution_count": 162,
   "metadata": {},
   "outputs": [],
   "source": [
    "messages = [\n",
    "    {'role': 'system',\n",
    "    'content': 'you are a helpful chat assistant with access to a large database of scientific papers. You may search tool to gather information about user query domain and answer user queries based on what you learned.'},\n",
    "    {'role': 'user', 'content': 'Hi'},\n",
    "    {'role': 'assistant', 'content': 'Hi, how can I assist you?'},\n",
    "    {'role': 'user', 'content': 'What is p53?'},\n",
    "    {'role': 'assistant', 'content': 'p53 is a protein that in humans is encoded by the TP53 gene. p53 is crucial in multicellular organisms, where it regulates the cell cycle and functions as a tumor suppressor. p53 has been described as \"the guardian of the genome\" because of its role in conserving stability by preventing genome mutation.'},\n",
    "    {'role': 'user', 'content': 'name the genes'}\n",
    "]"
   ]
  },
  {
   "cell_type": "code",
   "execution_count": 163,
   "metadata": {},
   "outputs": [],
   "source": [
    "# Tokenize the input messages\n",
    "output = llm.tokenizer.apply_chat_template(\n",
    "    conversation = messages,\n",
    "    tools = [search_tool, response],\n",
    "    return_tensors=\"pt\", \n",
    "    tokenize=True, \n",
    "    add_generation_prompt=True,\n",
    "    return_dict=True\n",
    ")\n",
    "input_ids = output[\"input_ids\"].to(DEVICE_NAME)\n",
    "attn_mask = output[\"attention_mask\"].to(DEVICE_NAME)\n"
   ]
  },
  {
   "cell_type": "code",
   "execution_count": 164,
   "metadata": {},
   "outputs": [
    {
     "name": "stdout",
     "output_type": "stream",
     "text": [
      "<|begin_of_text|><|start_header_id|>system<|end_header_id|>\n",
      "\n",
      "Environment: ipython\n",
      "Cutting Knowledge Date: December 2023\n",
      "Today Date: 26 Jul 2024\n",
      "\n",
      "you are a helpful chat assistant with access to a large database of scientific papers. Use search tool to gather information about user query domain and answer user queries based on what you learned.<|eot_id|><|start_header_id|>user<|end_header_id|>\n",
      "\n",
      "Given the following functions, please respond with a JSON for a function call with its proper arguments that best answers the given prompt.\n",
      "\n",
      "Respond in the format {\"name\": function name, \"parameters\": dictionary of argument name and its value}.Do not use variables.\n",
      "\n",
      "{\n",
      "    \"type\": \"function\",\n",
      "    \"function\": {\n",
      "        \"name\": \"search_tool\",\n",
      "        \"description\": \"Use this tool to search for information in the database.\",\n",
      "        \"parameters\": {\n",
      "            \"type\": \"object\",\n",
      "            \"properties\": {\n",
      "                \"query\": {\n",
      "                    \"type\": \"string\",\n",
      "                    \"description\": \"The query string to search for.\"\n",
      "                }\n",
      "            },\n",
      "            \"required\": [\n",
      "                \"query\"\n",
      "            ]\n",
      "        }\n",
      "    }\n",
      "}\n",
      "\n",
      "{\n",
      "    \"type\": \"function\",\n",
      "    \"function\": {\n",
      "        \"name\": \"response\",\n",
      "        \"description\": \"A tool to respond to the user message.\",\n",
      "        \"parameters\": {\n",
      "            \"type\": \"object\",\n",
      "            \"properties\": {\n",
      "                \"response\": {\n",
      "                    \"type\": \"string\",\n",
      "                    \"description\": \"The response string to respond to.\"\n",
      "                }\n",
      "            },\n",
      "            \"required\": [\n",
      "                \"response\"\n",
      "            ]\n",
      "        }\n",
      "    }\n",
      "}\n",
      "\n",
      "Hi<|eot_id|><|start_header_id|>assistant<|end_header_id|>\n",
      "\n",
      "Hi, how can I assist you?<|eot_id|><|start_header_id|>user<|end_header_id|>\n",
      "\n",
      "What is p53?<|eot_id|><|start_header_id|>assistant<|end_header_id|>\n",
      "\n",
      "p53 is a protein that in humans is encoded by the TP53 gene. p53 is crucial in multicellular organisms, where it regulates the cell cycle and functions as a tumor suppressor. p53 has been described as \"the guardian of the genome\" because of its role in conserving stability by preventing genome mutation.<|eot_id|><|start_header_id|>user<|end_header_id|>\n",
      "\n",
      "name the genes<|eot_id|><|start_header_id|>assistant<|end_header_id|>\n",
      "\n",
      "\n"
     ]
    }
   ],
   "source": [
    "# Input message for the model\n",
    "print(llm.tokenizer.decode(input_ids[0]))"
   ]
  },
  {
   "cell_type": "code",
   "execution_count": 165,
   "metadata": {},
   "outputs": [
    {
     "name": "stderr",
     "output_type": "stream",
     "text": [
      "Setting `pad_token_id` to `eos_token_id`:128001 for open-end generation.\n"
     ]
    },
    {
     "name": "stdout",
     "output_type": "stream",
     "text": [
      "<|begin_of_text|><|start_header_id|>system<|end_header_id|>\n",
      "\n",
      "Environment: ipython\n",
      "Cutting Knowledge Date: December 2023\n",
      "Today Date: 26 Jul 2024\n",
      "\n",
      "you are a helpful chat assistant with access to a large database of scientific papers. Use search tool to gather information about user query domain and answer user queries based on what you learned.<|eot_id|><|start_header_id|>user<|end_header_id|>\n",
      "\n",
      "Given the following functions, please respond with a JSON for a function call with its proper arguments that best answers the given prompt.\n",
      "\n",
      "Respond in the format {\"name\": function name, \"parameters\": dictionary of argument name and its value}.Do not use variables.\n",
      "\n",
      "{\n",
      "    \"type\": \"function\",\n",
      "    \"function\": {\n",
      "        \"name\": \"search_tool\",\n",
      "        \"description\": \"Use this tool to search for information in the database.\",\n",
      "        \"parameters\": {\n",
      "            \"type\": \"object\",\n",
      "            \"properties\": {\n",
      "                \"query\": {\n",
      "                    \"type\": \"string\",\n",
      "                    \"description\": \"The query string to search for.\"\n",
      "                }\n",
      "            },\n",
      "            \"required\": [\n",
      "                \"query\"\n",
      "            ]\n",
      "        }\n",
      "    }\n",
      "}\n",
      "\n",
      "{\n",
      "    \"type\": \"function\",\n",
      "    \"function\": {\n",
      "        \"name\": \"response\",\n",
      "        \"description\": \"A tool to respond to the user message.\",\n",
      "        \"parameters\": {\n",
      "            \"type\": \"object\",\n",
      "            \"properties\": {\n",
      "                \"response\": {\n",
      "                    \"type\": \"string\",\n",
      "                    \"description\": \"The response string to respond to.\"\n",
      "                }\n",
      "            },\n",
      "            \"required\": [\n",
      "                \"response\"\n",
      "            ]\n",
      "        }\n",
      "    }\n",
      "}\n",
      "\n",
      "Hi<|eot_id|><|start_header_id|>assistant<|end_header_id|>\n",
      "\n",
      "Hi, how can I assist you?<|eot_id|><|start_header_id|>user<|end_header_id|>\n",
      "\n",
      "What is p53?<|eot_id|><|start_header_id|>assistant<|end_header_id|>\n",
      "\n",
      "p53 is a protein that in humans is encoded by the TP53 gene. p53 is crucial in multicellular organisms, where it regulates the cell cycle and functions as a tumor suppressor. p53 has been described as \"the guardian of the genome\" because of its role in conserving stability by preventing genome mutation.<|eot_id|><|start_header_id|>user<|end_header_id|>\n",
      "\n",
      "name the genes<|eot_id|><|start_header_id|>assistant<|end_header_id|>\n",
      "\n",
      "{\"name\": \"search_tool\", \"parameters\": {\"query\": \"genes associated with p53\"}}<|end_of_text|>\n"
     ]
    }
   ],
   "source": [
    "output = llm.model.generate(\n",
    "    input_ids = input_ids,\n",
    "    attention_mask = attn_mask,\n",
    "    max_length=15000, \n",
    "    max_time=MAX_TIME,\n",
    "    generation_config=get_generation_config(),\n",
    "    repetition_penalty=1.5,\n",
    "    do_sample=False,    \n",
    ")\n",
    "output = llm.tokenizer.decode(output[0], skip_special_tokens=False)\n",
    "print(output)"
   ]
  },
  {
   "cell_type": "markdown",
   "metadata": {},
   "source": [
    "### Eg 3"
   ]
  },
  {
   "cell_type": "code",
   "execution_count": 28,
   "metadata": {},
   "outputs": [],
   "source": [
    "messages = [{'role': 'system', 'content': 'You are a knowledgeable chat assistant.'},\n",
    "  #Use `response` tool to respond to user. You may use `search_tool` to gather information related to biology and proteins.'},\n",
    " {'role': 'user', 'content': 'Hi'},\n",
    " {'role': 'assistant', 'content': 'Hi, how can I assist you?'},\n",
    " {'role': 'user', 'content': 'what is p53'},\n",
    "# {\"role\": \"assistant\", \"tool_call\": {\"type\": \"function\", \"id\": \"ASDVSDVG\", \"function\": {\"name\": \"search_tool\", \"parameters\": {\"query\": \"p53\"}}}},\n",
    "# {'role': 'tool', 'tool_call_id': \"ASDVSDVG\", 'name': 'search_tool', \n",
    "{'role': 'assistant',\n",
    "'content': 'p53, also known as Tumor protein P53, cellular tumor antigen p53 (UniProt name), or transformation-related protein 53 (TRP53) is a regulatory protein that is often mutated in human cancers. The p53 proteins (originally thought to be, and often spoken of as, a single protein) are crucial in vertebrates, where they prevent cancer formation.'},\n",
    "# {'role': 'assistant', 'content': 'p53, also known as Tumor protein P53, cellular tumor antigen p53 (UniProt name), or transformation-related protein 53 (TRP53) is a regulatory protein that is often mutated in human cancers. The p53 proteins (originally thought to be, and often spoken of as, a single protein) are crucial in vertebrates, where they prevent cancer formation.'},\n",
    "# {'role': 'user', 'content': 'ok'},\n",
    "]"
   ]
  },
  {
   "cell_type": "code",
   "execution_count": 30,
   "metadata": {},
   "outputs": [],
   "source": [
    "def output_tool(type: str, parameters: str):\n",
    "    \"\"\"AIRLLM output tool\n",
    "    Args:\n",
    "        type: The response type of the model, either search to call or response to user.\n",
    "        parameters: The parameters of the response or search\n",
    "    \"\"\"\n",
    "    return {\"role\": response, \"parameters\": parameters}"
   ]
  },
  {
   "cell_type": "code",
   "execution_count": 31,
   "metadata": {},
   "outputs": [],
   "source": [
    "# Tokenize the input messages\n",
    "output = llm.tokenizer.apply_chat_template(\n",
    "    conversation = messages,\n",
    "    #tools = [search_tool, response],\n",
    "    tools = [output_tool],\n",
    "    return_tensors=\"pt\", \n",
    "    tokenize=True, \n",
    "    add_generation_prompt=True,\n",
    "    return_dict=True\n",
    ")\n",
    "input_ids = output[\"input_ids\"].to(DEVICE_NAME)\n",
    "attn_mask = output[\"attention_mask\"].to(DEVICE_NAME)\n"
   ]
  },
  {
   "cell_type": "code",
   "execution_count": 32,
   "metadata": {},
   "outputs": [
    {
     "name": "stdout",
     "output_type": "stream",
     "text": [
      "<|begin_of_text|><|start_header_id|>system<|end_header_id|>\n",
      "\n",
      "Environment: ipython\n",
      "Cutting Knowledge Date: December 2023\n",
      "Today Date: 26 Jul 2024\n",
      "\n",
      "You are a knowledgeable chat assistant.<|eot_id|><|start_header_id|>user<|end_header_id|>\n",
      "\n",
      "Given the following functions, please respond with a JSON for a function call with its proper arguments that best answers the given prompt.\n",
      "\n",
      "Respond in the format {\"name\": function name, \"parameters\": dictionary of argument name and its value}.Do not use variables.\n",
      "\n",
      "{\n",
      "    \"type\": \"function\",\n",
      "    \"function\": {\n",
      "        \"name\": \"output_tool\",\n",
      "        \"description\": \"AIRLLM output tool\",\n",
      "        \"parameters\": {\n",
      "            \"type\": \"object\",\n",
      "            \"properties\": {\n",
      "                \"type\": {\n",
      "                    \"type\": \"string\",\n",
      "                    \"description\": \"The response type of the model, either search to call or response to user.\"\n",
      "                },\n",
      "                \"parameters\": {\n",
      "                    \"type\": \"string\",\n",
      "                    \"description\": \"The parameters of the response or search\"\n",
      "                }\n",
      "            },\n",
      "            \"required\": [\n",
      "                \"type\",\n",
      "                \"parameters\"\n",
      "            ]\n",
      "        }\n",
      "    }\n",
      "}\n",
      "\n",
      "Hi<|eot_id|><|start_header_id|>assistant<|end_header_id|>\n",
      "\n",
      "Hi, how can I assist you?<|eot_id|><|start_header_id|>user<|end_header_id|>\n",
      "\n",
      "what is p53<|eot_id|><|start_header_id|>assistant<|end_header_id|>\n",
      "\n",
      "p53, also known as Tumor protein P53, cellular tumor antigen p53 (UniProt name), or transformation-related protein 53 (TRP53) is a regulatory protein that is often mutated in human cancers. The p53 proteins (originally thought to be, and often spoken of as, a single protein) are crucial in vertebrates, where they prevent cancer formation.<|eot_id|><|start_header_id|>assistant<|end_header_id|>\n",
      "\n",
      "\n"
     ]
    }
   ],
   "source": [
    "print(llm.tokenizer.decode(input_ids[0]))"
   ]
  },
  {
   "cell_type": "code",
   "execution_count": 34,
   "metadata": {},
   "outputs": [
    {
     "name": "stderr",
     "output_type": "stream",
     "text": [
      "Setting `pad_token_id` to `eos_token_id`:128001 for open-end generation.\n"
     ]
    },
    {
     "name": "stdout",
     "output_type": "stream",
     "text": [
      "<|begin_of_text|><|start_header_id|>system<|end_header_id|>\n",
      "\n",
      "Environment: ipython\n",
      "Cutting Knowledge Date: December 2023\n",
      "Today Date: 26 Jul 2024\n",
      "\n",
      "You are a knowledgeable chat assistant.<|eot_id|><|start_header_id|>user<|end_header_id|>\n",
      "\n",
      "Given the following functions, please respond with a JSON for a function call with its proper arguments that best answers the given prompt.\n",
      "\n",
      "Respond in the format {\"name\": function name, \"parameters\": dictionary of argument name and its value}.Do not use variables.\n",
      "\n",
      "{\n",
      "    \"type\": \"function\",\n",
      "    \"function\": {\n",
      "        \"name\": \"output_tool\",\n",
      "        \"description\": \"AIRLLM output tool\",\n",
      "        \"parameters\": {\n",
      "            \"type\": \"object\",\n",
      "            \"properties\": {\n",
      "                \"type\": {\n",
      "                    \"type\": \"string\",\n",
      "                    \"description\": \"The response type of the model, either search to call or response to user.\"\n",
      "                },\n",
      "                \"parameters\": {\n",
      "                    \"type\": \"string\",\n",
      "                    \"description\": \"The parameters of the response or search\"\n",
      "                }\n",
      "            },\n",
      "            \"required\": [\n",
      "                \"type\",\n",
      "                \"parameters\"\n",
      "            ]\n",
      "        }\n",
      "    }\n",
      "}\n",
      "\n",
      "Hi<|eot_id|><|start_header_id|>assistant<|end_header_id|>\n",
      "\n",
      "Hi, how can I assist you?<|eot_id|><|start_header_id|>user<|end_header_id|>\n",
      "\n",
      "what is p53<|eot_id|><|start_header_id|>assistant<|end_header_id|>\n",
      "\n",
      "p53, also known as Tumor protein P53, cellular tumor antigen p53 (UniProt name), or transformation-related protein 53 (TRP53) is a regulatory protein that is often mutated in human cancers. The p53 proteins (originally thought to be, and often spoken of as, a single protein) are crucial in vertebrates, where they prevent cancer formation.<|eot_id|><|start_header_id|>assistant<|end_header_id|>\n",
      "\n",
      "{\"name\": \"output_tool\", \"parameters\": {\"type\": \"search\", \"parameters\": \"p53\"}}<|end_of_text|>\n"
     ]
    }
   ],
   "source": [
    "output = llm.model.generate(\n",
    "    input_ids = input_ids,\n",
    "    attention_mask = attn_mask,\n",
    "    max_length=15000, \n",
    "    max_time=MAX_TIME,\n",
    "    generation_config=get_generation_config(),\n",
    "    repetition_penalty=1.5,\n",
    "    do_sample=False,    \n",
    ")\n",
    "output = llm.tokenizer.decode(output[0], skip_special_tokens=False)\n",
    "print(output)"
   ]
  },
  {
   "cell_type": "code",
   "execution_count": null,
   "metadata": {},
   "outputs": [],
   "source": []
  },
  {
   "cell_type": "code",
   "execution_count": null,
   "metadata": {},
   "outputs": [],
   "source": []
  }
 ],
 "metadata": {
  "kernelspec": {
   "display_name": ".venv",
   "language": "python",
   "name": "python3"
  },
  "language_info": {
   "codemirror_mode": {
    "name": "ipython",
    "version": 3
   },
   "file_extension": ".py",
   "mimetype": "text/x-python",
   "name": "python",
   "nbconvert_exporter": "python",
   "pygments_lexer": "ipython3",
   "version": "3.11.2"
  }
 },
 "nbformat": 4,
 "nbformat_minor": 2
}
