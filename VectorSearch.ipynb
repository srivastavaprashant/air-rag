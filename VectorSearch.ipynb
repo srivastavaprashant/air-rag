{
 "cells": [
  {
   "cell_type": "code",
   "execution_count": 1,
   "metadata": {},
   "outputs": [
    {
     "name": "stderr",
     "output_type": "stream",
     "text": [
      "2024-10-13 11:23:13,723 - air-llm - INFO - Starting AIR llm...\n",
      "/users/gast00/prashant/air-rag/.venv/lib/python3.11/site-packages/transformers/generation/configuration_utils.py:567: UserWarning: `do_sample` is set to `False`. However, `temperature` is set to `0.1` -- this flag is only used in sample-based generation modes. You should set `do_sample=True` or unset `temperature`. This was detected when initializing the generation config instance, which means the corresponding file may hold incorrect parameterization and should be fixed.\n",
      "  warnings.warn(\n"
     ]
    }
   ],
   "source": [
    "from pathlib import Path\n",
    "from biokb.llm import AIRLLM\n",
    "from biokb.embedding import AIREmbedding, AIRPubmedSearch\n",
    "from biokb.helpers import get_generation_config\n",
    "from biokb.utils import get_file_names, create_documents_from_text_files, get_logger"
   ]
  },
  {
   "cell_type": "code",
   "execution_count": 2,
   "metadata": {},
   "outputs": [],
   "source": [
    "from biokb.settings import MODEL_NAME, EMBEDDING_MODEL_NAME, DB_DIR, DATA_DIR"
   ]
  },
  {
   "cell_type": "code",
   "execution_count": 3,
   "metadata": {},
   "outputs": [
    {
     "name": "stderr",
     "output_type": "stream",
     "text": [
      "2024-10-13 11:23:15,189 - air-rag - INFO - Starting the AIR Agent\n"
     ]
    }
   ],
   "source": [
    "logger = get_logger(debug=True)\n",
    "logger.info(\"Starting the AIR Agent\")"
   ]
  },
  {
   "cell_type": "code",
   "execution_count": 4,
   "metadata": {},
   "outputs": [],
   "source": [
    "embedding_llm = AIREmbedding(\n",
    "    model_name=EMBEDDING_MODEL_NAME\n",
    ")"
   ]
  },
  {
   "cell_type": "code",
   "execution_count": 5,
   "metadata": {},
   "outputs": [],
   "source": [
    "if Path(DB_DIR).exists():\n",
    "    docstore = AIRPubmedSearch.load(\n",
    "        DB_DIR, \n",
    "        embedding_llm=embedding_llm,\n",
    "    )\n",
    "else:\n",
    "    files = get_file_names(DATA_DIR)\n",
    "    documents = create_documents_from_text_files(files)\n",
    "    print(f\"Number of documents: {len(documents)}\")\n",
    "    docstore = AIRPubmedSearch(\n",
    "        documents=documents,\n",
    "        embedding_llm=embedding_llm,\n",
    "    )\n",
    "    docstore.build(DB_DIR)"
   ]
  },
  {
   "cell_type": "code",
   "execution_count": 6,
   "metadata": {},
   "outputs": [
    {
     "name": "stderr",
     "output_type": "stream",
     "text": [
      "/users/gast00/prashant/air-rag/.venv/lib/python3.11/site-packages/transformers/generation/configuration_utils.py:567: UserWarning: `do_sample` is set to `False`. However, `temperature` is set to `0.0` -- this flag is only used in sample-based generation modes. You should set `do_sample=True` or unset `temperature`. This was detected when initializing the generation config instance, which means the corresponding file may hold incorrect parameterization and should be fixed.\n",
      "  warnings.warn(\n",
      "2024-10-13 11:23:18,417 - air-rag - INFO - Loading model: meta-llama/Meta-Llama-3.1-8B-Instruct\n",
      "2024-10-13 11:23:18,418 - air-rag - INFO - Loading model in 4-bit mode\n",
      "`low_cpu_mem_usage` was None, now set to True since model is quantized.\n"
     ]
    },
    {
     "data": {
      "application/vnd.jupyter.widget-view+json": {
       "model_id": "14b50590999e494c9a2b79ed2a856fb7",
       "version_major": 2,
       "version_minor": 0
      },
      "text/plain": [
       "Loading checkpoint shards:   0%|          | 0/4 [00:00<?, ?it/s]"
      ]
     },
     "metadata": {},
     "output_type": "display_data"
    },
    {
     "name": "stderr",
     "output_type": "stream",
     "text": [
      "2024-10-13 11:23:27,787 - air-rag - INFO - Model loaded: meta-llama/Meta-Llama-3.1-8B-Instruct\n"
     ]
    }
   ],
   "source": [
    "generation_config = get_generation_config()\n",
    "\n",
    "llm = AIRLLM(\n",
    "    model_name=MODEL_NAME,\n",
    "    generation_config=generation_config,\n",
    "    logger=logger\n",
    ")"
   ]
  },
  {
   "cell_type": "code",
   "execution_count": 7,
   "metadata": {},
   "outputs": [
    {
     "name": "stderr",
     "output_type": "stream",
     "text": [
      "/users/gast00/prashant/air-rag/.venv/lib/python3.11/site-packages/transformers/generation/configuration_utils.py:567: UserWarning: `do_sample` is set to `False`. However, `temperature` is set to `0.0` -- this flag is only used in sample-based generation modes. You should set `do_sample=True` or unset `temperature`.\n",
      "  warnings.warn(\n",
      "Setting `pad_token_id` to `eos_token_id`:128001 for open-end generation.\n"
     ]
    },
    {
     "data": {
      "text/plain": [
       "('Melatonin sensitizes hepatocellular carcinoma cells to chemotherapy through long non-coding RNA RAD51-AS1-mediated suppression of DNA repair. \\n\\nThe final answer is Melatonin sensitizes hepatocellular carcinoma cells to chemotherapy through long non-coding RNA RAD51-AS1-mediated suppression of DNA repair..</p>\\n<p>2023-02-06</p> </div> </div> </div> </div> </div> </div> </div> </div> </div> </div> </div> </div> </div> </div> </div> </div> </div> </div> </div> </div> </div> </div> </div> </div> </div> </div> </div> </div> </div> </div> </div> </div> </div> </div> </div> </div> </div> </div> </div> </div> </div> </div> </div> </div> </div> </div> </div> </div> </div> </div> </div> </div> </div> </div> </div> </div> </div> </div> </div> </div> </div> </div> </div> </div> </div> </div> </div> </div> </div> </div> </div> </div> </div> </div> </div> </div> </div> </div>',\n",
       " [Document(page_content='1. Cancers (Basel). 2018 Sep 10;10(9):320. doi: 10.3390/cancers10090320.\\n\\nMelatonin Sensitizes Hepatocellular Carcinoma Cells to Chemotherapy Through Long \\nNon-Coding RNA RAD51-AS1-Mediated Suppression of DNA Repair.\\n\\nChen CC(1)(2), Chen CY(3)(4), Wang SH(5), Yeh CT(6), Su SC(7), Ueng SH(8), \\nChuang WY(9), Hsueh C(10)(11), Wang TH(12)(13)(14).\\n\\nAuthor information:\\n(1)Tissue Bank, Chang Gung Memorial Hospital, Tao-Yuan 33305, Taiwan. \\nchinchuan@mail.cgu.edu.tw.\\n(2)Graduate Institute of Natural Products, Chang Gung University, Tao-Yuan \\n33303, Taiwan. chinchuan@mail.cgu.edu.tw.\\n(3)Tissue Bank, Chang Gung Memorial Hospital, Tao-Yuan 33305, Taiwan. \\nd49417002@gmail.com.\\n(4)Graduate Institute of Health Industry Technology and Research Center for \\nIndustry of Human Ecology, College of Human Ecology, Chang Gung University of \\nScience and Technology, Tao-Yuan 33303, Taiwan. d49417002@gmail.com.\\n(5)Department of Anatomy and Cell Biology, College of Medicine, National Taiwan \\nUniversity, Taipei 10617, Taiwan. shwang@ntu.edu.tw.\\n(6)Liver Research Center, Department of Hepato-Gastroenterology, Chang Gung \\nMemorial Hospital, Tao-Yuan 33305, Taiwan. chauting@adm.cgmh.org.tw.\\n(7)Whole-Genome Research Core Laboratory of Human Diseases, Chang Gung Memorial \\nHospital, Keelung 20401, Taiwan. zenith5862@hotmail.com.\\n(8)Department of Anatomic Pathology, Chang Gung Memorial Hospital, Chang Gung \\nUniversity School of Medicine, Tao-Yuan 33305, Taiwan. shu922@adm.cgmh.org.tw.\\n(9)Department of Anatomic Pathology, Chang Gung Memorial Hospital, Chang Gung \\nUniversity School of Medicine, Tao-Yuan 33305, Taiwan. s12126@cgmh.org.tw.\\n(10)Tissue Bank, Chang Gung Memorial Hospital, Tao-Yuan 33305, Taiwan. \\nch9211@cgmh.org.tw.\\n(11)Department of Anatomic Pathology, Chang Gung Memorial Hospital, Chang Gung \\nUniversity School of Medicine, Tao-Yuan 33305, Taiwan. ch9211@cgmh.org.tw.\\n(12)Tissue Bank, Chang Gung Memorial Hospital, Tao-Yuan 33305, Taiwan. \\ncellww@adm.cgmh.org.tw.\\n(13)Graduate Institute of Health Industry Technology and Research Center for \\nIndustry of Human Ecology, College of Human Ecology, Chang Gung University of \\nScience and Technology, Tao-Yuan 33303, Taiwan. cellww@adm.cgmh.org.tw.\\n(14)Liver Research Center, Department of Hepato-Gastroenterology, Chang Gung \\nMemorial Hospital, Tao-Yuan 33305, Taiwan. cellww@adm.cgmh.org.tw.\\n\\nDNA repair systems are abnormally active in most hepatocellular carcinoma (HCC) \\ncells due to accumulated mutations, resulting in elevated DNA repair capacity \\nand resistance to chemotherapy and radiotherapy. Thus, targeting DNA repair \\nmechanisms is a common treatment approach in HCC to sensitize cancer cells to \\nDNA damage. In this study, we examined the anti-HCC effects of melatonin and \\nelucidated the regulatory mechanisms. The results of functional assays showed \\nthat in addition to inhibiting the proliferation, migration, and invasion \\nabilities of HCC cells, melatonin suppressed their DNA repair capacity, thereby \\npromoting the cytotoxicity of chemotherapy and radiotherapy. Whole-transcriptome \\nand gain- and loss-of-function analyses revealed that melatonin induces \\nexpression of the long noncoding RNA RAD51-AS1, which binds to RAD51 mRNA to \\ninhibit its translation, effectively decreasing the DNA repair capacity of HCC \\ncells and increasing their sensitivity to chemotherapy and radiotherapy. Animal \\nmodels further demonstrated that a combination of melatonin and the \\nchemotherapeutic agent etoposide (VP16) can significantly enhance tumor growth \\ninhibition compared with monotherapy. Our results show that melatonin is a \\npotential adjuvant treatment for chemotherapy and radiotherapy in HCC.\\n\\nDOI: 10.3390/cancers10090320\\nPMCID: PMC6162454\\nPMID: 30201872\\n\\nConflict of interest statement: The authors declare no conflict of interest.', metadata={'file_name': PosixPath('/users/gast00/prashant/air-rag/air/abstracts/30201872.txt')}),\n",
       "  Document(page_content='1. Proc Natl Acad Sci U S A. 2006 Feb 14;103(7):2257-61. doi: \\n10.1073/pnas.0510565103. Epub 2006 Feb 3.\\n\\nA microRNA expression signature of human solid tumors defines cancer gene \\ntargets.\\n\\nVolinia S(1), Calin GA, Liu CG, Ambs S, Cimmino A, Petrocca F, Visone R, Iorio \\nM, Roldo C, Ferracin M, Prueitt RL, Yanaihara N, Lanza G, Scarpa A, Vecchione A, \\nNegrini M, Harris CC, Croce CM.\\n\\nAuthor information:\\n(1)Department of Molecular Virology, Immunology, and Medical Genetics and Cancer \\nComprehensive Center, Ohio State University, Columbus, OH 43210, USA.\\n\\nSmall noncoding microRNAs (miRNAs) can contribute to cancer development and \\nprogression and are differentially expressed in normal tissues and cancers. From \\na large-scale miRnome analysis on 540 samples including lung, breast, stomach, \\nprostate, colon, and pancreatic tumors, we identified a solid cancer miRNA \\nsignature composed by a large portion of overexpressed miRNAs. Among these \\nmiRNAs are some with well characterized cancer association, such as miR-17-5p, \\nmiR-20a, miR-21, miR-92, miR-106a, and miR-155. The predicted targets for the \\ndifferentially expressed miRNAs are significantly enriched for protein-coding \\ntumor suppressors and oncogenes (P < 0.0001). A number of the predicted targets, \\nincluding the tumor suppressors RB1 (Retinoblastoma 1) and TGFBR2 (transforming \\ngrowth factor, beta receptor II) genes were confirmed experimentally. Our \\nresults indicate that miRNAs are extensively involved in cancer pathogenesis of \\nsolid tumors and support their function as either dominant or recessive cancer \\ngenes.\\n\\nDOI: 10.1073/pnas.0510565103\\nPMCID: PMC1413718\\nPMID: 16461460 [Indexed for MEDLINE]\\n\\nConflict of interest statement: Conflict of interest statement: No conflicts \\ndeclared.', metadata={'file_name': PosixPath('/users/gast00/prashant/air-rag/air/abstracts/16461460.txt')}),\n",
       "  Document(page_content='1. BMC Cancer. 2015 Oct 19;15:731. doi: 10.1186/s12885-015-1713-z.\\n\\nThe regulatory and predictive functions of miR-17 and miR-92 families on \\ncisplatin resistance of non-small cell lung cancer.\\n\\nZhao J(1), Fu W(2), Liao H(3), Dai L(4), Jiang Z(5), Pan Y(6), Huang H(7), Mo \\nY(8), Li S(9), Yang G(10), Yin J(11).\\n\\nAuthor information:\\n(1)Department of Chest Surgery, Cancer Center of Guangzhou Medical University, \\nGuangzhou, Guangdong, China. zj_hjh@163.com.\\n(2)Department of Chest Surgery, Cancer Center of Guangzhou Medical University, \\nGuangzhou, Guangdong, China. 312342986@qq.com.\\n(3)Department of Chest Surgery, Cancer Center of Guangzhou Medical University, \\nGuangzhou, Guangdong, China. hylmed1996@tom.com.\\n(4)Department of Chest Surgery, Cancer Center of Guangzhou Medical University, \\nGuangzhou, Guangdong, China. daes2004@qq.com.\\n(5)Department of Chest Surgery, Cancer Center of Guangzhou Medical University, \\nGuangzhou, Guangdong, China. 505738383@qq.com.\\n(6)Department of Chest Surgery, Cancer Center of Guangzhou Medical University, \\nGuangzhou, Guangdong, China. 153144068@qq.com.\\n(7)Department of Chest Surgery, Cancer Center of Guangzhou Medical University, \\nGuangzhou, Guangdong, China. hhd_wong@163.com.\\n(8)Department of Chest Surgery, Cancer Center of Guangzhou Medical University, \\nGuangzhou, Guangdong, China. moyijun911@sina.com.\\n(9)Department of Chest Surgery, Cancer Center of Guangzhou Medical University, \\nGuangzhou, Guangdong, China. 1016068999@qq.com.\\n(10)Department of Chest Surgery, Cancer Center of Guangzhou Medical University, \\nGuangzhou, Guangdong, China. 429075483@qq.com.\\n(11)Department of Chest Surgery, Cancer Center of Guangzhou Medical University, \\nGuangzhou, Guangdong, China. tottijun@163.com.\\n\\nBACKGROUND: Chemotherapy is an important therapeutic approach for non-small cell \\nlung cancer (NSCLC). However, a successful long-term treatment can be prevented \\nby the occurring of chemotherapy resistance frequently, and the molecular \\nmechanisms of chemotherapy resistance in NSCLC remain unclear. In this study, \\nabnormal expressions of miR-17 and miR-92 families are observed in \\ncisplatin-resistant cells, suggesting that miR-17 and miR-92 families are \\ninvolved in the regulation of cisplatin resistance in NSCLC.\\nMETHODS: miRNA microarray shows that miR-17 and miR-92 families are all \\ndown-regulated in cisplatin-resistant A549/DDP cells compared with \\ncisplatin-sensitive A549 cells. The aim of this study is to investigate the \\nregulatory functions of miR-17 and miR-92 families on the formation of cisplatin \\nresistance and the predictive functions of them as biomarkers of platinum-based \\nchemotherapy resistance in NSCLC.\\nRESULTS: The low expressions of miR-17 and miR-92 families can maintain \\ncisplatin resistance through the regulation of CDKN1A and RAD21. As a result of \\nhigh expressions of CDKN1A and RAD21, the inhibition of DNA synthesis and the \\nrepair of DNA damage are achieved and these may be two major contributing \\nfactors to cisplatin resistance. Moreover, we demonstrate that the expressions \\nof miR-17 and miR-92 families in NSCLC tissues are significantly associated with \\nplatinum-based chemotherapy response.\\nCONCLUSION: Our study indicates that miR-17 and miR-92 families play important \\nroles in cisplatin resistance and can be used as potential biomarkers for better \\npredicting the clinical response to platinum-based chemotherapy in NSCLC.\\n\\nDOI: 10.1186/s12885-015-1713-z\\nPMCID: PMC4617718\\nPMID: 26482648 [Indexed for MEDLINE]', metadata={'file_name': PosixPath('/users/gast00/prashant/air-rag/air/abstracts/26482648.txt')}),\n",
       "  Document(page_content='1. Cancer Lett. 2021 Nov 1;520:295-306. doi: 10.1016/j.canlet.2021.08.004. Epub \\n2021 Aug 10.\\n\\nThe novel long noncoding RNA AU021063, induced by IL-6/Arid5a signaling, \\nexacerbates breast cancer invasion and metastasis by stabilizing Trib3 and \\nactivating the Mek/Erk pathway.\\n\\nNyati KK(1), Hashimoto S(2), Singh SK(3), Tekguc M(4), Metwally H(2), Liu YC(5), \\nOkuzaki D(6), Gemechu Y(2), Kang S(2), Kishimoto T(7).\\n\\nAuthor information:\\n(1)Laboratory of Immune Regulation, World Premier International Immunology \\nFrontier Research Center, Osaka University, Suita, 565-0871, Osaka, Japan. \\nElectronic address: nyati15@ifrec.osaka-u.ac.jp.\\n(2)Laboratory of Immune Regulation, World Premier International Immunology \\nFrontier Research Center, Osaka University, Suita, 565-0871, Osaka, Japan.\\n(3)Laboratory of Host Defense, World Premier International Immunology Frontier \\nResearch Center, Osaka University, Suita, 565-0871, Osaka, Japan.\\n(4)Laboratory of Experimental Immunology, World Premier International Immunology \\nFrontier Research Center, Osaka University, Suita, 565-0871, Osaka, Japan.\\n(5)Laboratory of Human Immunology, World Premier International Immunology \\nFrontier Research Center, Osaka University, Suita, 565-0871, Osaka, Japan.\\n(6)Genome Information Research Center, Research Institute for Microbial \\nDiseases, Osaka University, Suita, 565-0871, Osaka, Japan.\\n(7)Laboratory of Immune Regulation, World Premier International Immunology \\nFrontier Research Center, Osaka University, Suita, 565-0871, Osaka, Japan. \\nElectronic address: kishimoto@ifrec.osaka-u.ac.jp.\\n\\nInterleukin (IL-6) is a pleotropic cytokine with both tumor-promoting and \\n-inhibitory effects on breast cancer growth. However, the mechanisms governing \\nthe outcome of IL-6 on cancer progression remain to be clarified. Our study \\nunraveled a novel long noncoding RNA (lncRNA) AU021063 downstream of IL-6 \\nsignaling. We found that IL-6 induced the expression of AU021063 predominantly \\nin breast cancer compared to other cancer types. Mechanistically, IL-6 induced \\nAT-rich interactive domain 5a (Arid5a) expression, which promotes the \\ntranscription of AU021063. In turn, AU021063 promotes breast cancer metastasis \\nthrough stabilizing tribbles homolog 3 (Trib3) and activating Mek/Erk signaling \\npathway. Genetic ablation of either Arid5a, AU021063 or Trib3 abolished breast \\ncancer metastasis in vitro and in vivo. Overall, our study highlights the \\nimportance of IL-6-Arid5a-AU021063 axis in regulating breast cancer invasiveness \\nand metastasis, which may provide potential novel therapeutics for breast \\ncancer.\\n\\nCopyright © 2021 Elsevier B.V. All rights reserved.\\n\\nDOI: 10.1016/j.canlet.2021.08.004\\nPMID: 34389433 [Indexed for MEDLINE]', metadata={'file_name': PosixPath('/users/gast00/prashant/air-rag/air/abstracts/34389433.txt')}),\n",
       "  Document(page_content='1. Cell Death Dis. 2015 Jan 22;6(1):e1614. doi: 10.1038/cddis.2014.556.\\n\\nGenome-wide mRNA and miRNA expression profiling reveal multiple regulatory \\nnetworks in colorectal cancer.\\n\\nVishnubalaji R(1), Hamam R(1), Abdulla MH(2), Mohammed MA(2), Kassem M(3), \\nAl-Obeed O(2), Aldahmash A(4), Alajez NM(1).\\n\\nAuthor information:\\n(1)Stem Cell Unit, Department of Anatomy, College of Medicine, King Saud \\nUniversity, Riyadh 11461, Kingdom of Saudi Arabia.\\n(2)Colorectal Research Center, Department of Surgery, King Khalid University \\nHospital, College of Medicine, King Saud University, Riyadh, Kingdom of Saudi \\nArabia.\\n(3)1] Stem Cell Unit, Department of Anatomy, College of Medicine, King Saud \\nUniversity, Riyadh 11461, Kingdom of Saudi Arabia [2] KMEB, Department of \\nEndocrinology, University of Southern Denmark, Odense, Denmark [3] Danish Stem \\nCell Center (DanStem), Panum Institute, University of Copenhagen, Copenhagen, \\nDenmark.\\n(4)1] Stem Cell Unit, Department of Anatomy, College of Medicine, King Saud \\nUniversity, Riyadh 11461, Kingdom of Saudi Arabia [2] KMEB, Department of \\nEndocrinology, University of Southern Denmark, Odense, Denmark.\\n\\nDespite recent advances in cancer management, colorectal cancer (CRC) remains \\nthe third most common cancer and a major health-care problem worldwide. \\nMicroRNAs have recently emerged as key regulators of cancer development and \\nprogression by targeting multiple cancer-related genes; however, such regulatory \\nnetworks are not well characterized in CRC. Thus, the aim of this study was to \\nperform global messenger RNA (mRNA) and microRNA expression profiling in the \\nsame CRC samples and adjacent normal tissues and to identify potential \\nmiRNA-mRNA regulatory networks. Our data revealed 1273 significantly upregulated \\nand 1902 downregulated genes in CRC. Pathway analysis revealed significant \\nenrichment in cell cycle, integrated cancer, Wnt (wingless-type MMTV integration \\nsite family member), matrix metalloproteinase, and TGF-β pathways in CRC. \\nPharmacological inhibition of Wnt (using XAV939 or IWP-2) or TGF-β (using \\nSB-431542) pathways led to dose- and time-dependent inhibition of CRC cell \\ngrowth. Similarly, our data revealed up- (42) and downregulated (61) microRNAs \\nin the same matched samples. Using target prediction and bioinformatics, ~77% of \\nthe upregulated genes were predicted to be targeted by microRNAs found to be \\ndownregulated in CRC. We subsequently focused on EZH2 (enhancer of zeste homolog \\n2 ), which was found to be regulated by hsa-miR-26a-5p and several members of \\nthe let-7 (lethal-7) family in CRC. Significant inverse correlation between EZH2 \\nand hsa-miR-26a-5p (R(2)=0.56, P=0.0001) and hsa-let-7b-5p (R(2)=0.19, P=0.02) \\nexpression was observed in the same samples, corroborating the belief of EZH2 \\nbeing a bona fide target for these two miRNAs in CRC. Pharmacological inhibition \\nof EZH2 led to significant reduction in trimethylated histone H3 on lysine 27 \\n(H3K27) methylation, marked reduction in cell proliferation, and migration in \\nvitro. Concordantly, small interfering RNA-mediated knockdown of EZH2 led to \\nsimilar effects on CRC cell growth in vitro. Therefore, our data have revealed \\nseveral hundred potential miRNA-mRNA regulatory networks in CRC and suggest \\ntargeting relevant networks as potential therapeutic strategy for CRC.\\n\\nDOI: 10.1038/cddis.2014.556\\nPMCID: PMC4669754\\nPMID: 25611389 [Indexed for MEDLINE]', metadata={'file_name': PosixPath('/users/gast00/prashant/air-rag/air/abstracts/25611389.txt')})])"
      ]
     },
     "execution_count": 7,
     "metadata": {},
     "output_type": "execute_result"
    }
   ],
   "source": [
    "docstore.search(\n",
    "    llm = llm,\n",
    "    query=\"cancer\",\n",
    ")"
   ]
  },
  {
   "cell_type": "code",
   "execution_count": 8,
   "metadata": {},
   "outputs": [
    {
     "name": "stderr",
     "output_type": "stream",
     "text": [
      "Setting `pad_token_id` to `eos_token_id`:128001 for open-end generation.\n"
     ]
    },
    {
     "data": {
      "text/plain": [
       "('The p53 pathway plays a crucial role in regulating the biological behavior and determining the fate of tumor cells in non-small cell lung cancers (NSCLCs). Mutations of p53, a reduced p14 alternate reading frame expression, a reduced herpesvirus-associated ubiquitin-specific protease expression, or a reduced p33 inhibitor of growth gene1b expression are common in NSCLCs. The balance of expression of p53 target genes, such as p21, Bax, and PUMA, regulates the biological behavior and determines the fate of tumor cells. Many studies on cancer gene therapy using these molecules associated with the p53 pathway have been performed to develop new strategies for treating NSCLC patients. Therefore, the establishment of a comprehensive and simple evaluation protocol for the p53 pathway is required for clinical use. Additionally, the p53 tumor suppressor gene has been shown to regulate expression of some metastasis-related genes, including epidermal growth factor receptor, matrix metalloproteinase (MMP)-2, cathepsin D, and thrombospondin-1, but represses expression of the genes encoding basic fibroblast growth factor and multidrug resistance-1. Decreased expression of E-cadherin is associated with p53 alterations. The p53 pathway also regulates the expression of the metastasis suppressor gene Nm23-H1, which encodes an 18-kDa nucleoside diphosphate kinase. Wild-type p53 upregulates the expression of Nm23-H1 at protein and mRNA levels in MCF-7 and J7B cells, while mutant p53 downregulates the expression of Nm23-H1 in RKO and H1299 cells. The invasive ability of MCF-7 and J7B cells is suppressed upon induction of the Nm23-H1 protein by p',\n",
       " [Document(page_content='1. Future Oncol. 2007 Feb;3(1):83-93. doi: 10.2217/14796694.3.1.83.\\n\\nClinical significance of the p53 pathway and associated gene therapy in \\nnon-small cell lung cancers.\\n\\nHuang CL(1), Yokomise H, Miyatake A.\\n\\nAuthor information:\\n(1)Second Department of Surgery, Faculty of Medicine, Kagawa University, 1750-1, \\nMikicho, Kita-gun, Kagawa 761-0793, Japan. chuang@kms.ac.jp\\n\\nMany molecules, including several regulators and various target genes, are \\ninvolved in the biological functions of p53, thus making the p53 pathway rather \\ncomplicated. However, recent clinical studies have demonstrated that most human \\ncancers have an abnormality in some of the molecules associated with the p53 \\npathway. Most non-small cell lung cancers (NSCLCs) have either mutations of p53, \\na reduced p14 alternate reading frame expression, a reduced \\nherpesvirus-associated ubiquitin-specific protease expression or a reduced p33 \\ninhibitor of growth gene1b expression. As a result, the balance of expression of \\np53 target genes, such as p21, Bax and PUMA, regulates the biological behavior \\nand determines the fate of tumor cells. To date, many studies on cancer gene \\ntherapy using these molecules associated with the p53 pathway have been \\nperformed to develop new strategies for treating NSCLC patients. Thus, the \\nestablishment of a comprehensive and simple evaluation protocol for the p53 \\npathway is required for clinical use.\\n\\nDOI: 10.2217/14796694.3.1.83\\nPMID: 17280505 [Indexed for MEDLINE]', metadata={'file_name': PosixPath('/users/gast00/prashant/air-rag/air/abstracts/17280505.txt')}),\n",
       "  Document(page_content='1. Mol Carcinog. 1999 Jan;24(1):25-8.\\n\\nRegulation of metastasis-related gene expression by p53: a potential clinical \\nimplication.\\n\\nSun Y(1), Wicha M, Leopold WR.\\n\\nAuthor information:\\n(1)Department of Molecular Biology, Parke-Davis Pharmaceutical Research, \\nDivision of Warner-Lambert Company, Ann Arbor, Michigan 48105, USA.\\n\\nTumor metastasis is the main cause of mortality and treatment failure in cancer \\npatients. It is a complex biological process regulated by alternations in \\nexpression of many genes. The p53 tumor suppressor gene has been shown to \\nregulate expression of some metastasis-related genes. p53 transcriptionally \\nactivates expression of the genes encoding epidermal growth factor receptor, \\nmatrix metalloproteinase (MMP)-2, cathepsin D, and thrombospondin-1 but \\nrepresses expression of the genes encoding basic fibroblast growth factor and \\nmultidrug resistance-1. Decreased expression of E-cadherin is associated with \\np53 alternations. Because these p53-regulatory genes either promote or inhibit \\ntumor metastasis, the net effect of p53 expression on tumor metastasis depends \\nupon the pattern of expression of these genes in a particular tumor. Because \\nradiotherapy has been shown to increase tumor metastasis in both animal and \\nhuman studies and because p53 is activated by radiation or DNA-damaging \\nreagents, here we propose the working hypothesis that p53 may promote tumor \\nmetastasis upon induction by local radiotherapy or chemotherapy in some tumor \\ntypes. For patients whose tumors contain wild-type p53, MMP inhibitors might be \\ngiven with or before radiotherapy or chemotherapy to prevent an increase in \\ntumor metastasis. Special caution should be taken with patients with cancers \\nsuch as nasopharyngeal carcinoma in which p53 mutation is infrequent and \\nradiotherapy is the main choice of treatment. To test our hypothesis, three \\nstudies are proposed and could serve as an initial step in understanding the \\ncomplex biological process following radiation-induced p53 activation and its \\nroles in regulation of tumor metastasis.\\n\\nPMID: 10029407 [Indexed for MEDLINE]', metadata={'file_name': PosixPath('/users/gast00/prashant/air-rag/air/abstracts/10029407.txt')}),\n",
       "  Document(page_content='1. Mol Carcinog. 2003 Apr;36(4):204-14. doi: 10.1002/mc.10110.\\n\\nP53 is a regulator of the metastasis suppressor gene Nm23-H1.\\n\\nChen SL(1), Wu YS, Shieh HY, Yen CC, Shen JJ, Lin KH.\\n\\nAuthor information:\\n(1)Department of Biochemistry, Chang-Gung University, Taoyuan, Taiwan, Republic \\nof China.\\n\\np53, a tumor suppressor gene involved in the G1 cell cycle checkpoint, is also \\nthe most frequently mutated gene in human cancer. In addition, p53 modifies the \\nability of tumor cells to metastasize. The metastasis-associated gene Nm23-H1, \\nwhich encodes an 18-kDa nucleoside diphosphate kinase, was previously identified \\nin cells with low metastatic potential. Although p53 and Nm23-H1 proteins play \\nan important part in regulating the progression of cancer, any functional \\nrelationship between these two proteins is currently unknown. Here we report an \\nassociation between p53 levels and expression of the Nm23-H1 gene. Our data \\nindicate that wild-type (wt) p53 upregulated the expression of Nm23-H1 at \\nprotein and mRNA levels in MCF-7 and J7B cells. This capacity of wt p53 to \\nregulate expression of Nm23-H1 was not only dependent on the endogenous but also \\nthe exogenous origin of p53, and could not be reproduced with mutant p53. \\nSubsequently, the invasive ability of MCF-7 and J7B cells was suppressed upon \\ninduction of the Nm23-H1 protein by p53. In contrast, increased levels of p53 \\ndownregulated the expression of Nm23-H1 at the protein and mRNA levels in RKO \\nand H1299 cells and, as a consequence, increased the invasive ability of both \\ncell types. Thus, our results implicated the differential regulation of Nm23-H1 \\nby p53 in different cell types as an important component in the molecular \\nmechanisms of tumor metastasis.\\n\\nCopyright 2003 Wiley-Liss, Inc.\\n\\nDOI: 10.1002/mc.10110\\nPMID: 12669312 [Indexed for MEDLINE]', metadata={'file_name': PosixPath('/users/gast00/prashant/air-rag/air/abstracts/12669312.txt')}),\n",
       "  Document(page_content='1. Curr Pharm Des. 2018;24(30):3566-3575. doi: 10.2174/1381612824666180926095709.\\n\\nRole of p53 Gene in Breast Cancer: Focus on Mutation Spectrum and Therapeutic \\nStrategies.\\n\\nKaur RP(1), Vasudeva K(1), Kumar R(1), Munshi A(1).\\n\\nAuthor information:\\n(1)Department of Human Genetics and Molecular Medicine, Central University of \\nPunjab, Bathinda, 151001, India.\\n\\nTP53 is a tumor suppressor gene which is commonly mutated in various cancers \\nincluding breast cancer. Alterations in the gene lead to an altered expression \\nof various genes that are directly or indirectly under the transcriptional \\ncontrol of p53. This results in malfunctioning of DNA damage repair pathways, \\ncell-cycle arrest, chromatin remodeling and apoptosis. Different mutations in \\nTP53 gene have been reported in different ethnic groups and exon 4 and intron 3 \\nare reported to be frequently mutated in breast cancer patients especially \\ntriplenegative breast cancer. Increased global burden of TP53 mutated breast \\ntumors has paved the path for various therapies targeting p53/TP53. Numerous \\nmolecules including nutilins, MI series, RO5693, PRIMA-1, RITA, etc. have been \\ndeveloped. Majority of these restore p53/TP53 function by targeting negative \\nregulators of p53/TP53, wtp53/TP53 (wild-type) and mtp53/TP53 (mutant). Most of \\nthese molecules are in the preclinical phase except for two APR-246 and COTI-2 \\nthat have progressed to clinical trials. The current review has been compiled \\nwith an aim to give an overview of mutations in p53 across various ethnic \\ngroups, the effect of these alterations on TP53 function and the therapeutic \\nstrategies developed till date targeting p53/TP53 especially in breast cancer.\\n\\nCopyright© Bentham Science Publishers; For any queries, please email at \\nepub@benthamscience.org.\\n\\nDOI: 10.2174/1381612824666180926095709\\nPMID: 30255744 [Indexed for MEDLINE]', metadata={'file_name': PosixPath('/users/gast00/prashant/air-rag/air/abstracts/30255744.txt')}),\n",
       "  Document(page_content='1. Cancer Res. 2010 Mar 15;70(6):2274-84. doi: 10.1158/0008-5472.CAN-09-2661.\\nEpub  2010 Mar 2.\\n\\np53 Regulates the Ras circuit to inhibit the expression of a cancer-related gene \\nsignature by various molecular pathways.\\n\\nBuganim Y(1), Solomon H, Rais Y, Kistner D, Nachmany I, Brait M, Madar S, \\nGoldstein I, Kalo E, Adam N, Gordin M, Rivlin N, Kogan I, Brosh R, Sefadia-Elad \\nG, Goldfinger N, Sidransky D, Kloog Y, Rotter V.\\n\\nAuthor information:\\n(1)Department of Molecular Cell Biology, Weizmann Institute of Science, Rehovot, \\nIsrael.\\n\\nIn this study, we focus on the analysis of a previously identified \\ncancer-related gene signature (CGS) that underlies the cross talk between the \\np53 tumor suppressor and Ras oncogene. CGS consists of a large number of known \\nRas downstream target genes that were synergistically upregulated by wild-type \\np53 loss and oncogenic H-Ras(G12V) expression. Here we show that CGS expression \\nstrongly correlates with malignancy. In an attempt to elucidate the molecular \\nmechanisms underling the cooperation between p53 loss and oncogenic H-Ras(G12V), \\nwe identified distinguished pathways that may account for the regulation of the \\nexpression of the CGS. By knocking-down p53 or by expressing mutant p53, we \\nrevealed that p53 exerts its negative effect by at least two mechanisms mediated \\nby its targets B-cell translocation gene 2 (BTG2) and activating transcription \\nfactor 3 (ATF3). Whereas BTG2 binds H-Ras(G12V) and represses its activity by \\nreducing its GTP loading state, which in turn causes a reduction in CGS \\nexpression, ATF3 binds directly to the CGS promoters following p53 stabilization \\nand represses their expression. This study further elucidates the molecular loop \\nbetween p53 and Ras in the transformation process.\\n\\nDOI: 10.1158/0008-5472.CAN-09-2661\\nPMID: 20197462 [Indexed for MEDLINE]', metadata={'file_name': PosixPath('/users/gast00/prashant/air-rag/air/abstracts/20197462.txt')})])"
      ]
     },
     "execution_count": 8,
     "metadata": {},
     "output_type": "execute_result"
    },
    {
     "ename": "",
     "evalue": "",
     "output_type": "error",
     "traceback": [
      "\u001b[1;31mThe Kernel crashed while executing code in the current cell or a previous cell. \n",
      "\u001b[1;31mPlease review the code in the cell(s) to identify a possible cause of the failure. \n",
      "\u001b[1;31mClick <a href='https://aka.ms/vscodeJupyterKernelCrash'>here</a> for more info. \n",
      "\u001b[1;31mView Jupyter <a href='command:jupyter.viewOutput'>log</a> for further details."
     ]
    }
   ],
   "source": [
    "docstore.search(\n",
    "    llm = llm,\n",
    "    query=\"p53 and cancer\",\n",
    ")"
   ]
  },
  {
   "cell_type": "code",
   "execution_count": null,
   "metadata": {},
   "outputs": [],
   "source": []
  }
 ],
 "metadata": {
  "kernelspec": {
   "display_name": ".venv",
   "language": "python",
   "name": "python3"
  },
  "language_info": {
   "codemirror_mode": {
    "name": "ipython",
    "version": 3
   },
   "file_extension": ".py",
   "mimetype": "text/x-python",
   "name": "python",
   "nbconvert_exporter": "python",
   "pygments_lexer": "ipython3",
   "version": "3.11.2"
  }
 },
 "nbformat": 4,
 "nbformat_minor": 2
}
